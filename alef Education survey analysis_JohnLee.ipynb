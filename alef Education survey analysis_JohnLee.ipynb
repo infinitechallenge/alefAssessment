{
 "cells": [
  {
   "cell_type": "code",
   "execution_count": 1,
   "metadata": {},
   "outputs": [],
   "source": [
    "# import the necessary libraries to read/manipulate the data\n",
    "import pandas as pd\n",
    "import numpy as np\n",
    "#The file could be containing Arabic, therefore use the encoding that will allow the arabic\n",
    "df = pd.read_csv(\"data/survey_data.csv\",encoding='windows-1256')"
   ]
  },
  {
   "cell_type": "code",
   "execution_count": 2,
   "metadata": {},
   "outputs": [
    {
     "data": {
      "text/plain": [
       "Student Code          object\n",
       "Grade                 object\n",
       "Gender                object\n",
       "Question              object\n",
       "School Code            int64\n",
       "Survey Score         float64\n",
       "Survey Time Spent      int64\n",
       "Exam Score           float64\n",
       "dtype: object"
      ]
     },
     "execution_count": 2,
     "metadata": {},
     "output_type": "execute_result"
    }
   ],
   "source": [
    "#checking the data types\n",
    "df.dtypes"
   ]
  },
  {
   "cell_type": "code",
   "execution_count": 3,
   "metadata": {},
   "outputs": [],
   "source": [
    "#Assuming data will come with the same column names, optimize the column names \n",
    "df = df.rename(index=str, columns={\"Student Code\": \"studentCode\",\n",
    "                                   \"Grade\":\"grade\",\n",
    "                                   \"Gender\":\"gender\",\n",
    "                                   \"Question\":\"question\",\n",
    "                                   \"School Code\":\"schoolCode\",\n",
    "                                   \"Survey Score\":\"surveyScore\",\n",
    "                                   \"Survey Time Spent\":\"surveyTimeSpent\",\n",
    "                                   \"Exam Score\":\"examScore\"})"
   ]
  },
  {
   "cell_type": "code",
   "execution_count": 4,
   "metadata": {},
   "outputs": [
    {
     "name": "stdout",
     "output_type": "stream",
     "text": [
      "studentCode          0\n",
      "grade                0\n",
      "gender               0\n",
      "question             0\n",
      "schoolCode           0\n",
      "surveyScore          0\n",
      "surveyTimeSpent      0\n",
      "examScore          120\n",
      "dtype: int64\n"
     ]
    }
   ],
   "source": [
    "#missing value checks\n",
    "print(df.isnull().sum()) #There are 120 missing exam scores"
   ]
  },
  {
   "cell_type": "code",
   "execution_count": 5,
   "metadata": {},
   "outputs": [],
   "source": [
    "# making the Question column to lower case for efficient text parsing \n",
    "df['question'] = df['question'].str.lower()"
   ]
  },
  {
   "cell_type": "code",
   "execution_count": 6,
   "metadata": {},
   "outputs": [
    {
     "name": "stdout",
     "output_type": "stream",
     "text": [
      "      studentCode    grade gender  \\\n",
      "8495      123-936  Grade 6  Girls   \n",
      "17704    123-1458  Grade 6  Girls   \n",
      "17705    123-1458  Grade 6  Girls   \n",
      "17709    123-1458  Grade 6  Girls   \n",
      "17710    123-1458  Grade 6  Girls   \n",
      "18144    123-1458  Grade 6  Girls   \n",
      "18149    123-1458  Grade 6  Girls   \n",
      "18493    123-1458  Grade 6  Girls   \n",
      "18495    123-1458  Grade 6  Girls   \n",
      "18496    123-1458  Grade 6  Girls   \n",
      "18497    123-1458  Grade 6  Girls   \n",
      "18584    123-1458  Grade 6  Girls   \n",
      "18586    123-1458  Grade 6  Girls   \n",
      "21487     123-936  Grade 6  Girls   \n",
      "21608     123-936  Grade 6  Girls   \n",
      "21609     123-936  Grade 6  Girls   \n",
      "21610     123-936  Grade 6  Girls   \n",
      "21611     123-936  Grade 6  Girls   \n",
      "22005     123-936  Grade 6  Girls   \n",
      "22006     123-936  Grade 6  Girls   \n",
      "22007     123-936  Grade 6  Girls   \n",
      "22008     123-936  Grade 6  Girls   \n",
      "22009     123-936  Grade 6  Girls   \n",
      "22010     123-936  Grade 6  Girls   \n",
      "22196     123-936  Grade 6  Girls   \n",
      "22197     123-936  Grade 6  Girls   \n",
      "22198     123-936  Grade 6  Girls   \n",
      "22199     123-936  Grade 6  Girls   \n",
      "22200     123-936  Grade 6  Girls   \n",
      "22414     123-936  Grade 6  Girls   \n",
      "...           ...      ...    ...   \n",
      "33375    123-1458  Grade 6  Girls   \n",
      "33376    123-1458  Grade 6  Girls   \n",
      "33378    123-1458  Grade 6  Girls   \n",
      "33379    123-1458  Grade 6  Girls   \n",
      "33381    123-1458  Grade 6  Girls   \n",
      "33383    123-1458  Grade 6  Girls   \n",
      "33384    123-1458  Grade 6  Girls   \n",
      "33387    123-1458  Grade 6  Girls   \n",
      "33389    123-1458  Grade 6  Girls   \n",
      "33391    123-1458  Grade 6  Girls   \n",
      "33392    123-1458  Grade 6  Girls   \n",
      "33394    123-1458  Grade 6  Girls   \n",
      "33396    123-1458  Grade 6  Girls   \n",
      "33398    123-1458  Grade 6  Girls   \n",
      "33399    123-1458  Grade 6  Girls   \n",
      "33400    123-1458  Grade 6  Girls   \n",
      "33550    123-1458  Grade 6  Girls   \n",
      "33552    123-1458  Grade 6  Girls   \n",
      "39047     123-936  Grade 6  Girls   \n",
      "39103     123-936  Grade 6  Girls   \n",
      "39104     123-936  Grade 6  Girls   \n",
      "40154    123-1458  Grade 6  Girls   \n",
      "40155    123-1458  Grade 6  Girls   \n",
      "40224    123-1458  Grade 6  Girls   \n",
      "43592    123-1458  Grade 6  Girls   \n",
      "43602    123-1458  Grade 6  Girls   \n",
      "43604    123-1458  Grade 6  Girls   \n",
      "43607    123-1458  Grade 6  Girls   \n",
      "43610    123-1458  Grade 6  Girls   \n",
      "43615    123-1458  Grade 6  Girls   \n",
      "\n",
      "                                                question  schoolCode  \\\n",
      "8495   listening and comprehending audio materialsت ت...        8000   \n",
      "17704                 manipulating objects on the screen        9000   \n",
      "17705                               navigating web pages        9000   \n",
      "17709                       selecting texts with a mouse        9000   \n",
      "17710                               typing on a keyboard        9000   \n",
      "18144  listening and comprehending audio materialsت ت...        9000   \n",
      "18149            reading and comprehending digital texts        9000   \n",
      "18493  my parents chat with me.______ ________ ___ __...        9000   \n",
      "18495  my parents discuss my school performance with ...        9000   \n",
      "18496  my parents encourage me to set my learning goa...        9000   \n",
      "18497  my parents tutor me themselves.______ ________...        9000   \n",
      "18584  my parents hired a private tutor to help me. _...        9000   \n",
      "18586  my parents support me with my homework. ______...        9000   \n",
      "21487            reading and comprehending digital texts        8000   \n",
      "21608                 manipulating objects on the screen        8000   \n",
      "21609                               navigating web pages        8000   \n",
      "21610                       selecting texts with a mouse        8000   \n",
      "21611                               typing on a keyboard        8000   \n",
      "22005  my parents chat with me.______ ________ ___ __...        8000   \n",
      "22006  my parents discuss my school performance with ...        8000   \n",
      "22007  my parents encourage me to set my learning goa...        8000   \n",
      "22008  my parents hired a private tutor to help me. _...        8000   \n",
      "22009  my parents support me with my homework. ______...        8000   \n",
      "22010  my parents tutor me themselves.______ ________...        8000   \n",
      "22196  get involved in classroom discussions________ ...        8000   \n",
      "22197    i play educational games.ت ت____ _____ ________        8000   \n",
      "22198  set aside a specific time to complete my homew...        8000   \n",
      "22199  stay focused throughout a lesson______ ___ ___...        8000   \n",
      "22200  understand all materials from a class___ ____ ...        8000   \n",
      "22414  i believe that no matter who you are, you can ...        8000   \n",
      "...                                                  ...         ...   \n",
      "33375  get involved in classroom discussions________ ...        9000   \n",
      "33376  i am comfortable using technology. ____ ______...        9000   \n",
      "33378  i am really excited to explore new technology....        9000   \n",
      "33379  i browse the internet to follow up lessons (e....        9000   \n",
      "33381  i do homework on a computer/laptop.ت ت ______ ...        9000   \n",
      "33383  i feel confident in my ability to learn new te...        9000   \n",
      "33384  i like playing educational games.___ ______ __...        9000   \n",
      "33387  i like watching educational videos.___ ______ ...        9000   \n",
      "33389    i play educational games.ت ت____ _____ ________        9000   \n",
      "33391  i read e-books/articles online.ت ت_____ _____ ...        9000   \n",
      "33392  i watch educational videos.ت ت _____ _____ ___...        9000   \n",
      "33394  set aside a specific time to complete my homew...        9000   \n",
      "33396  stay focused throughout a lesson______ ___ ___...        9000   \n",
      "33398  understand all materials from a class___ ____ ...        9000   \n",
      "33399  understand the lesson when it is difficult___ ...        9000   \n",
      "33400  when i come across problems with technology, i...        9000   \n",
      "33550  completed a task right away rather than delay ...        9000   \n",
      "33552  stayed focused even when i find my classmates ...        9000   \n",
      "39047  when i feel like giving up on a difficult task...        8000   \n",
      "39103  my teachers give students opportunities to exp...        8000   \n",
      "39104  my teachers take time to make sure i understan...        8000   \n",
      "40154  my teachers take time to make sure i understan...        9000   \n",
      "40155  when i feel like giving up on a difficult task...        9000   \n",
      "40224  my teachers give students opportunities to exp...        9000   \n",
      "43592  i always consider different opinions. ___ ____...        9000   \n",
      "43602  i enjoy learning from others.___ ______ ______...        9000   \n",
      "43604  i enjoy seeing my classmates succeed. ______ _...        9000   \n",
      "43607  i like reading digitally rather than on paper....        9000   \n",
      "43610  i prefer working as part of a team instead of ...        9000   \n",
      "43615  i want to be praised by parents when i perform...        9000   \n",
      "\n",
      "       surveyScore  surveyTimeSpent  examScore  \n",
      "8495      0.333333               27        NaN  \n",
      "17704     0.666667               11        NaN  \n",
      "17705     0.666667               11        NaN  \n",
      "17709     0.666667               11        NaN  \n",
      "17710     0.666667               11        NaN  \n",
      "18144     1.000000               11        NaN  \n",
      "18149     1.000000               11        NaN  \n",
      "18493     0.600000               11        NaN  \n",
      "18495     0.600000               11        NaN  \n",
      "18496     0.600000               11        NaN  \n",
      "18497     0.600000               11        NaN  \n",
      "18584     0.800000               11        NaN  \n",
      "18586     0.800000               11        NaN  \n",
      "21487     0.666667               27        NaN  \n",
      "21608     1.000000               27        NaN  \n",
      "21609     1.000000               27        NaN  \n",
      "21610     1.000000               27        NaN  \n",
      "21611     1.000000               27        NaN  \n",
      "22005     1.000000               27        NaN  \n",
      "22006     1.000000               27        NaN  \n",
      "22007     1.000000               27        NaN  \n",
      "22008     1.000000               27        NaN  \n",
      "22009     1.000000               27        NaN  \n",
      "22010     1.000000               27        NaN  \n",
      "22196     0.250000               27        NaN  \n",
      "22197     0.250000               27        NaN  \n",
      "22198     0.250000               27        NaN  \n",
      "22199     0.250000               27        NaN  \n",
      "22200     0.250000               27        NaN  \n",
      "22414     0.333333               27        NaN  \n",
      "...            ...              ...        ...  \n",
      "33375     0.750000               11        NaN  \n",
      "33376     0.750000               11        NaN  \n",
      "33378     0.750000               11        NaN  \n",
      "33379     0.750000               11        NaN  \n",
      "33381     0.750000               11        NaN  \n",
      "33383     0.750000               11        NaN  \n",
      "33384     0.750000               11        NaN  \n",
      "33387     0.750000               11        NaN  \n",
      "33389     0.750000               11        NaN  \n",
      "33391     0.750000               11        NaN  \n",
      "33392     0.750000               11        NaN  \n",
      "33394     0.750000               11        NaN  \n",
      "33396     0.750000               11        NaN  \n",
      "33398     0.750000               11        NaN  \n",
      "33399     0.750000               11        NaN  \n",
      "33400     0.750000               11        NaN  \n",
      "33550     0.800000               11        NaN  \n",
      "33552     0.800000               11        NaN  \n",
      "39047     0.600000               27        NaN  \n",
      "39103     1.000000               27        NaN  \n",
      "39104     1.000000               27        NaN  \n",
      "40154     0.600000               11        NaN  \n",
      "40155     0.600000               11        NaN  \n",
      "40224     0.800000               11        NaN  \n",
      "43592     1.000000               11        NaN  \n",
      "43602     1.000000               11        NaN  \n",
      "43604     1.000000               11        NaN  \n",
      "43607     1.000000               11        NaN  \n",
      "43610     1.000000               11        NaN  \n",
      "43615     1.000000               11        NaN  \n",
      "\n",
      "[120 rows x 8 columns]\n"
     ]
    }
   ],
   "source": [
    "#Let's see what type of students we are missing the exam scores \n",
    "missingExamScoreDf = df.loc[df.examScore.isnull() == True]\n",
    "print(missingExamScoreDf)"
   ]
  },
  {
   "cell_type": "code",
   "execution_count": 7,
   "metadata": {},
   "outputs": [
    {
     "name": "stdout",
     "output_type": "stream",
     "text": [
      "studentCode         2\n",
      "grade               1\n",
      "gender              1\n",
      "question           60\n",
      "schoolCode          2\n",
      "surveyScore         8\n",
      "surveyTimeSpent     2\n",
      "examScore           0\n",
      "dtype: int64\n"
     ]
    }
   ],
   "source": [
    "print(missingExamScoreDf.nunique())\n",
    "# There are 2 types of students where there are missing exam scores , \n",
    "# only 1 grade;6 ;where there are missing exam scores \n",
    "# Two types of school codes; 8000,9000;where there are missing exam scores \n",
    "# Only 1 gender; Girls;where there are missing exam scores \n",
    "# From 2 schools ;where there are missing exam scores \n",
    "# Majority of the test scores are above 50%; 88%\n",
    "# Exactly half of the students spent 27, and the other half spent 11"
   ]
  },
  {
   "cell_type": "markdown",
   "metadata": {},
   "source": [
    "# 1st question: What is the general correlation between Survey Score and Exam Score?\n"
   ]
  },
  {
   "cell_type": "code",
   "execution_count": 8,
   "metadata": {},
   "outputs": [],
   "source": [
    "#Drop the rows with missing exam scores\n",
    "nanDropped = df.dropna()"
   ]
  },
  {
   "cell_type": "code",
   "execution_count": 9,
   "metadata": {},
   "outputs": [
    {
     "name": "stdout",
     "output_type": "stream",
     "text": [
      "(0.12463255665768065, 1.7428944273386622e-158)\n",
      "assumping the assumptions for the pearson's coefficient assumption hold true,\n",
      "The p-value is less than 0.05, correlation is statistically significant\n",
      "Interpretation: Survey score and the exam score have postivie, weak, linear relationship\n"
     ]
    }
   ],
   "source": [
    "# Let's calculate the correlation with the p-value\n",
    "from scipy import stats\n",
    "print(stats.pearsonr(nanDropped['surveyScore'],nanDropped['examScore']))\n",
    "print(\"assumping the assumptions for the pearson's coefficient assumption hold true,\")\n",
    "print(\"The p-value is less than 0.05, correlation is statistically significant\")\n",
    "print(\"Interpretation: Survey score and the exam score have postivie, weak, linear relationship\")"
   ]
  },
  {
   "cell_type": "markdown",
   "metadata": {},
   "source": [
    "# 2nd question: Is there any correlation between the students’ feedback on Parental Involvement questions and their Exam score? What about Teacher facilitation and ICT Skills  ",
    "questions? (You need to identify the relevant questions of these categories)"
   ]
  },
  {
   "cell_type": "code",
   "execution_count": 10,
   "metadata": {},
   "outputs": [],
   "source": [
    "# Tag the relevant rows by adding columns for the parental involvement, teacher facilitation, ict skills\n",
    "df['parent_Flag'] = np.where(df['question'].str.contains(\"parent\", case=False), 1, 0)\n",
    "df['teacher_Flag'] = np.where(df['question'].str.contains(\"teacher\", case=False), 1, 0)\n",
    "df['ict_Flag']=np.where(\n",
    "                    (df['question'].str.contains(\"technology\"))\n",
    "                     | (df[\"question\"].str.contains(\"digital\"))\n",
    "                     | (df[\"question\"].str.contains(\"web\"))\n",
    "                     | (df[\"question\"].str.contains(\"computer\"))\n",
    "                     | (df[\"question\"].str.contains(\"laptop\"))\n",
    "                     | (df[\"question\"].str.contains(\"keyboard\"))\n",
    "                     | (df[\"question\"].str.contains(\"online\"))\n",
    "                    ,1,0)"
   ]
  },
  {
   "cell_type": "code",
   "execution_count": 13,
   "metadata": {},
   "outputs": [],
   "source": [
    "#Drop the missing exam scores from the df again\n",
    "nanDropped = df.dropna()"
   ]
  },
  {
   "cell_type": "code",
   "execution_count": 14,
   "metadata": {},
   "outputs": [
    {
     "name": "stdout",
     "output_type": "stream",
     "text": [
      "correlation and the p-value for the feedbacks wrt parental involvement & exam score is (0.0, 1.0)\n",
      "correlation and the p-value for the feedbacks wrt teacher facilitation & exam score is (-4.74305801181884e-18, 1.0)\n",
      "correlation and the p-value for the feedbacks wrt ict skills & exam score is (-2.8140367721166272e-18, 1.0)\n",
      "The correlations are not only weak but does not hold any statistical significance\n",
      "caveat: Using pearson's correlation coefficient to measure the associations may be biased or incorrect\n"
     ]
    }
   ],
   "source": [
    "print(\"correlation and the p-value for the feedbacks wrt parental involvement & exam score is\",stats.pearsonr(nanDropped['parent_Flag'],nanDropped['examScore']))\n",
    "print(\"correlation and the p-value for the feedbacks wrt teacher facilitation & exam score is\",stats.pearsonr(nanDropped['teacher_Flag'],nanDropped['examScore']))\n",
    "print(\"correlation and the p-value for the feedbacks wrt ict skills & exam score is\",stats.pearsonr(nanDropped['ict_Flag'],nanDropped['examScore']))\n",
    "print(\"The correlations are not only weak but does not hold any statistical significance\")\n",
    "print(\"caveat: Using pearson's correlation coefficient to measure the associations may be biased or incorrect\")\n"
   ]
  },
  {
   "cell_type": "markdown",
   "metadata": {},
   "source": [
    "## Let's visualize the relationships between each feedback categories with the exam scores"
   ]
  },
  {
   "cell_type": "code",
   "execution_count": 15,
   "metadata": {},
   "outputs": [],
   "source": [
    "# import necessary libraries for visualization\n",
    "import matplotlib.pyplot as plt\n",
    "import seaborn as sns"
   ]
  },
  {
   "cell_type": "code",
   "execution_count": 16,
   "metadata": {},
   "outputs": [
    {
     "name": "stdout",
     "output_type": "stream",
     "text": [
      "interpretation: Looking at the shape of the boxplot, it doesn't look like the parental involvement does not differentiate the exam score\n"
     ]
    },
    {
     "data": {
      "image/png": "[encoded data removed]",
      "text/plain": [
       "<Figure size 432x288 with 1 Axes>"
      ]
     },
     "metadata": {},
     "output_type": "display_data"
    }
   ],
   "source": [
    "#parental involvement & exam score\n",
    "sns.boxplot(x='parent_Flag', y='examScore', data=df) \n",
    "print(\"interpretation: Looking at the shape of the boxplot, it doesn't look like the parental involvement does not differentiate the exam score\")\n"
   ]
  },
  {
   "cell_type": "code",
   "execution_count": 17,
   "metadata": {},
   "outputs": [
    {
     "name": "stdout",
     "output_type": "stream",
     "text": [
      "interpretation: Looking at the shape of the boxplot, it doesn't look like the teacher facilitation does not differentiate the exam score\n"
     ]
    },
    {
     "data": {
      "image/png": "[encoded data removed]",
      "text/plain": [
       "<Figure size 432x288 with 1 Axes>"
      ]
     },
     "metadata": {},
     "output_type": "display_data"
    }
   ],
   "source": [
    "#teacher facilitation $ exam score\n",
    "sns.boxplot(x='teacher_Flag', y='examScore', data=df) \n",
    "print(\"interpretation: Looking at the shape of the boxplot, it doesn't look like the teacher facilitation does not differentiate the exam score\")\n"
   ]
  },
  {
   "cell_type": "code",
   "execution_count": 18,
   "metadata": {},
   "outputs": [
    {
     "name": "stdout",
     "output_type": "stream",
     "text": [
      "interpretation: Looking at the shape of the boxplot, it doesn't look like the ict skills does not differentiate the exam score\n"
     ]
    },
    {
     "data": {
      "image/png": "[encoded data removed]",
      "text/plain": [
       "<Figure size 432x288 with 1 Axes>"
      ]
     },
     "metadata": {},
     "output_type": "display_data"
    }
   ],
   "source": [
    "#ict skills & exam score\n",
    "sns.boxplot(x='ict_Flag', y='examScore', data=df) \n",
    "print(\"interpretation: Looking at the shape of the boxplot, it doesn't look like the ict skills does not differentiate the exam score\")\n"
   ]
  },
  {
   "cell_type": "markdown",
   "metadata": {},
   "source": [
    "## How about we study if those feedback categories affect the survey score?"
   ]
  },
  {
   "cell_type": "code",
   "execution_count": 19,
   "metadata": {},
   "outputs": [
    {
     "name": "stdout",
     "output_type": "stream",
     "text": [
      "Interpretation: ict skills related questions don't seem to be affecting the survey score\n"
     ]
    },
    {
     "data": {
      "image/png": "[encoded data removed]",
      "text/plain": [
       "<Figure size 432x288 with 1 Axes>"
      ]
     },
     "metadata": {},
     "output_type": "display_data"
    }
   ],
   "source": [
    "sns.boxplot(x='ict_Flag', y='surveyScore', data=df)\n",
    "print(\"Interpretation: ict skills related questions don't seem to be affecting the survey score\")"
   ]
  },
  {
   "cell_type": "code",
   "execution_count": 20,
   "metadata": {},
   "outputs": [
    {
     "name": "stdout",
     "output_type": "stream",
     "text": [
      "It appears that the students with non-parental related feedback scored the survey more positively\n"
     ]
    },
    {
     "data": {
      "image/png": "[encoded data removed]",
      "text/plain": [
       "<Figure size 432x288 with 1 Axes>"
      ]
     },
     "metadata": {},
     "output_type": "display_data"
    }
   ],
   "source": [
    "sns.boxplot(x='parent_Flag', y='surveyScore', data=df)\n",
    "print(\"It appears that the students with non-parental related feedback scored the survey more positively\")"
   ]
  },
  {
   "cell_type": "code",
   "execution_count": 21,
   "metadata": {},
   "outputs": [
    {
     "name": "stdout",
     "output_type": "stream",
     "text": [
      "It appears that the students with non-teacher related feedback scored the survey more positively\n"
     ]
    },
    {
     "data": {
      "image/png": "[encoded data removed]",
      "text/plain": [
       "<Figure size 432x288 with 1 Axes>"
      ]
     },
     "metadata": {},
     "output_type": "display_data"
    }
   ],
   "source": [
    "sns.boxplot(x='teacher_Flag', y='surveyScore', data=df)\n",
    "print(\"It appears that the students with non-teacher related feedback scored the survey more positively\")"
   ]
  },
  {
   "cell_type": "markdown",
   "metadata": {},
   "source": [
    "# 3rd question: What is the role of Gender on feedback Scores for different questions?"
   ]
  },
  {
   "cell_type": "code",
   "execution_count": 22,
   "metadata": {},
   "outputs": [],
   "source": [
    "# Create dummy variable; convert Boys to 1 and Girls to 0 \n",
    "df['genderDummy'] = np.where(df['gender'].str.contains(\"Boys\", case=False), 1, 0)\n"
   ]
  },
  {
   "cell_type": "code",
   "execution_count": 24,
   "metadata": {
    "scrolled": true
   },
   "outputs": [
    {
     "name": "stdout",
     "output_type": "stream",
     "text": [
      "Negative correlation with statistically significant p-value. But again, pearson's correlation coefficient might not be the right test to measure the relationship\n",
      "pearson's correlation coefficient expects continuous variables. Though I transformed the gender to numerical, it doesn't create the meaningful scale between the values.\n"
     ]
    }
   ],
   "source": [
    "stats.pearsonr(df['surveyScore'],df['genderDummy'])\n",
    "print(\"Negative correlation with statistically significant p-value. But again, pearson's correlation coefficient might not be the right test to measure the relationship\")\n",
    "print(\"pearson's correlation coefficient expects continuous variables. Though I transformed the gender to numerical, it doesn't create the meaningful scale between the values.\")\n",
    "\n"
   ]
  },
  {
   "cell_type": "code",
   "execution_count": 25,
   "metadata": {},
   "outputs": [
    {
     "data": {
      "text/plain": [
       "<seaborn.axisgrid.FacetGrid at 0x1a2238cba8>"
      ]
     },
     "execution_count": 25,
     "metadata": {},
     "output_type": "execute_result"
    },
    {
     "data": {
      "image/png": "[encoded data removed]",
      "text/plain": [
       "<Figure size 432x216 with 2 Axes>"
      ]
     },
     "metadata": {},
     "output_type": "display_data"
    }
   ],
   "source": [
    "#Let's visualize if boys and girls score the survey differently \n",
    "genderSurvey = sns.FacetGrid(data=df, col='gender')\n",
    "genderSurvey.map(plt.hist, 'surveyScore', bins=5)"
   ]
  },
  {
   "cell_type": "code",
   "execution_count": 26,
   "metadata": {},
   "outputs": [
    {
     "name": "stdout",
     "output_type": "stream",
     "text": [
      "Looking at the histograms above and this boxplot, girls tend to be score the survey higher than boys do\n"
     ]
    },
    {
     "data": {
      "image/png": "[encoded data removed]",
      "text/plain": [
       "<Figure size 432x288 with 1 Axes>"
      ]
     },
     "metadata": {},
     "output_type": "display_data"
    }
   ],
   "source": [
    "sns.boxplot(x='gender', y='surveyScore', data=df)\n",
    "print(\"Looking at the histograms above and this boxplot, girls tend to be score the survey higher than boys do\")"
   ]
  },
  {
   "cell_type": "markdown",
   "metadata": {},
   "source": [
    "# Additional observations"
   ]
  },
  {
   "cell_type": "markdown",
   "metadata": {},
   "source": [
    "## How about the performance and the gender?"
   ]
  },
  {
   "cell_type": "code",
   "execution_count": 27,
   "metadata": {},
   "outputs": [
    {
     "name": "stdout",
     "output_type": "stream",
     "text": [
      "interpretation: In this sample, girls tend to perform better than boys\n"
     ]
    },
    {
     "data": {
      "image/png": "[encoded data removed]",
      "text/plain": [
       "<Figure size 432x288 with 1 Axes>"
      ]
     },
     "metadata": {},
     "output_type": "display_data"
    }
   ],
   "source": [
    "sns.boxplot(x='gender', y='examScore', data=df)\n",
    "print(\"interpretation: In this sample, girls tend to perform better than boys\")"
   ]
  },
  {
   "cell_type": "code",
   "execution_count": 28,
   "metadata": {},
   "outputs": [
    {
     "name": "stdout",
     "output_type": "stream",
     "text": [
      "interpretation: It's interesting to see that non-parental questions tend to have better survey score \n"
     ]
    },
    {
     "data": {
      "image/png": "[encoded data removed]",
      "text/plain": [
       "<Figure size 432x216 with 2 Axes>"
      ]
     },
     "metadata": {},
     "output_type": "display_data"
    }
   ],
   "source": [
    "# parental involvement & survey score\n",
    "parentSurvey = sns.FacetGrid(data=df, col='parent_Flag')\n",
    "parentSurvey.map(plt.hist, 'surveyScore', bins=5)\n",
    "print(\"interpretation: It's interesting to see that non-parental questions tend to have better survey score \")"
   ]
  },
  {
   "cell_type": "code",
   "execution_count": 29,
   "metadata": {},
   "outputs": [
    {
     "name": "stdout",
     "output_type": "stream",
     "text": [
      "(-0.03395110556438538, 3.1010731913661646e-13)\n",
      "interpretation: Negative, weak linear relationship between the survey time spent and survey score\n"
     ]
    }
   ],
   "source": [
    "# Checking if there is any linear relationship between the survey time spent and the survey score\n",
    "print(stats.pearsonr(df['surveyTimeSpent'],df['surveyScore']))\n",
    "print(\"interpretation: Negative, weak linear relationship between the survey time spent and survey score\")"
   ]
  },
  {
   "cell_type": "code",
   "execution_count": null,
   "metadata": {},
   "outputs": [],
   "source": []
  }
 ],
 "metadata": {
  "kernelspec": {
   "display_name": "Python 3",
   "language": "python",
   "name": "python3"
  },
  "language_info": {
   "codemirror_mode": {
    "name": "ipython",
    "version": 3
   },
   "file_extension": ".py",
   "mimetype": "text/x-python",
   "name": "python",
   "nbconvert_exporter": "python",
   "pygments_lexer": "ipython3",
   "version": "3.6.5"
  }
 },
 "nbformat": 4,
 "nbformat_minor": 2
}
